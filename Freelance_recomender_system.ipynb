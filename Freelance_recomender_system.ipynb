{
  "nbformat": 4,
  "nbformat_minor": 0,
  "metadata": {
    "colab": {
      "provenance": []
    },
    "kernelspec": {
      "name": "python3",
      "display_name": "Python 3"
    },
    "language_info": {
      "name": "python"
    },
    "accelerator": "GPU",
    "gpuClass": "standard"
  },
  "cells": [
    {
      "cell_type": "code",
      "execution_count": null,
      "metadata": {
        "id": "95HhEziYCqEp"
      },
      "outputs": [],
      "source": [
        "import pandas as pd "
      ]
    },
    {
      "cell_type": "code",
      "source": [
        "from google.colab import files\n",
        "files.upload()"
      ],
      "metadata": {
        "colab": {
          "base_uri": "https://localhost:8080/",
          "height": 107
        },
        "id": "xpOTX68rC0qB",
        "outputId": "4f9a94bc-cb59-4ad9-e3db-22811d10a3b8"
      },
      "execution_count": null,
      "outputs": [
        {
          "output_type": "display_data",
          "data": {
            "text/plain": [
              "<IPython.core.display.HTML object>"
            ],
            "text/html": [
              "\n",
              "     <input type=\"file\" id=\"files-939a01b8-46cd-4462-aacd-e19b6794a5f0\" name=\"files[]\" multiple disabled\n",
              "        style=\"border:none\" />\n",
              "     <output id=\"result-939a01b8-46cd-4462-aacd-e19b6794a5f0\">\n",
              "      Upload widget is only available when the cell has been executed in the\n",
              "      current browser session. Please rerun this cell to enable.\n",
              "      </output>\n",
              "      <script>// Copyright 2017 Google LLC\n",
              "//\n",
              "// Licensed under the Apache License, Version 2.0 (the \"License\");\n",
              "// you may not use this file except in compliance with the License.\n",
              "// You may obtain a copy of the License at\n",
              "//\n",
              "//      http://www.apache.org/licenses/LICENSE-2.0\n",
              "//\n",
              "// Unless required by applicable law or agreed to in writing, software\n",
              "// distributed under the License is distributed on an \"AS IS\" BASIS,\n",
              "// WITHOUT WARRANTIES OR CONDITIONS OF ANY KIND, either express or implied.\n",
              "// See the License for the specific language governing permissions and\n",
              "// limitations under the License.\n",
              "\n",
              "/**\n",
              " * @fileoverview Helpers for google.colab Python module.\n",
              " */\n",
              "(function(scope) {\n",
              "function span(text, styleAttributes = {}) {\n",
              "  const element = document.createElement('span');\n",
              "  element.textContent = text;\n",
              "  for (const key of Object.keys(styleAttributes)) {\n",
              "    element.style[key] = styleAttributes[key];\n",
              "  }\n",
              "  return element;\n",
              "}\n",
              "\n",
              "// Max number of bytes which will be uploaded at a time.\n",
              "const MAX_PAYLOAD_SIZE = 100 * 1024;\n",
              "\n",
              "function _uploadFiles(inputId, outputId) {\n",
              "  const steps = uploadFilesStep(inputId, outputId);\n",
              "  const outputElement = document.getElementById(outputId);\n",
              "  // Cache steps on the outputElement to make it available for the next call\n",
              "  // to uploadFilesContinue from Python.\n",
              "  outputElement.steps = steps;\n",
              "\n",
              "  return _uploadFilesContinue(outputId);\n",
              "}\n",
              "\n",
              "// This is roughly an async generator (not supported in the browser yet),\n",
              "// where there are multiple asynchronous steps and the Python side is going\n",
              "// to poll for completion of each step.\n",
              "// This uses a Promise to block the python side on completion of each step,\n",
              "// then passes the result of the previous step as the input to the next step.\n",
              "function _uploadFilesContinue(outputId) {\n",
              "  const outputElement = document.getElementById(outputId);\n",
              "  const steps = outputElement.steps;\n",
              "\n",
              "  const next = steps.next(outputElement.lastPromiseValue);\n",
              "  return Promise.resolve(next.value.promise).then((value) => {\n",
              "    // Cache the last promise value to make it available to the next\n",
              "    // step of the generator.\n",
              "    outputElement.lastPromiseValue = value;\n",
              "    return next.value.response;\n",
              "  });\n",
              "}\n",
              "\n",
              "/**\n",
              " * Generator function which is called between each async step of the upload\n",
              " * process.\n",
              " * @param {string} inputId Element ID of the input file picker element.\n",
              " * @param {string} outputId Element ID of the output display.\n",
              " * @return {!Iterable<!Object>} Iterable of next steps.\n",
              " */\n",
              "function* uploadFilesStep(inputId, outputId) {\n",
              "  const inputElement = document.getElementById(inputId);\n",
              "  inputElement.disabled = false;\n",
              "\n",
              "  const outputElement = document.getElementById(outputId);\n",
              "  outputElement.innerHTML = '';\n",
              "\n",
              "  const pickedPromise = new Promise((resolve) => {\n",
              "    inputElement.addEventListener('change', (e) => {\n",
              "      resolve(e.target.files);\n",
              "    });\n",
              "  });\n",
              "\n",
              "  const cancel = document.createElement('button');\n",
              "  inputElement.parentElement.appendChild(cancel);\n",
              "  cancel.textContent = 'Cancel upload';\n",
              "  const cancelPromise = new Promise((resolve) => {\n",
              "    cancel.onclick = () => {\n",
              "      resolve(null);\n",
              "    };\n",
              "  });\n",
              "\n",
              "  // Wait for the user to pick the files.\n",
              "  const files = yield {\n",
              "    promise: Promise.race([pickedPromise, cancelPromise]),\n",
              "    response: {\n",
              "      action: 'starting',\n",
              "    }\n",
              "  };\n",
              "\n",
              "  cancel.remove();\n",
              "\n",
              "  // Disable the input element since further picks are not allowed.\n",
              "  inputElement.disabled = true;\n",
              "\n",
              "  if (!files) {\n",
              "    return {\n",
              "      response: {\n",
              "        action: 'complete',\n",
              "      }\n",
              "    };\n",
              "  }\n",
              "\n",
              "  for (const file of files) {\n",
              "    const li = document.createElement('li');\n",
              "    li.append(span(file.name, {fontWeight: 'bold'}));\n",
              "    li.append(span(\n",
              "        `(${file.type || 'n/a'}) - ${file.size} bytes, ` +\n",
              "        `last modified: ${\n",
              "            file.lastModifiedDate ? file.lastModifiedDate.toLocaleDateString() :\n",
              "                                    'n/a'} - `));\n",
              "    const percent = span('0% done');\n",
              "    li.appendChild(percent);\n",
              "\n",
              "    outputElement.appendChild(li);\n",
              "\n",
              "    const fileDataPromise = new Promise((resolve) => {\n",
              "      const reader = new FileReader();\n",
              "      reader.onload = (e) => {\n",
              "        resolve(e.target.result);\n",
              "      };\n",
              "      reader.readAsArrayBuffer(file);\n",
              "    });\n",
              "    // Wait for the data to be ready.\n",
              "    let fileData = yield {\n",
              "      promise: fileDataPromise,\n",
              "      response: {\n",
              "        action: 'continue',\n",
              "      }\n",
              "    };\n",
              "\n",
              "    // Use a chunked sending to avoid message size limits. See b/62115660.\n",
              "    let position = 0;\n",
              "    do {\n",
              "      const length = Math.min(fileData.byteLength - position, MAX_PAYLOAD_SIZE);\n",
              "      const chunk = new Uint8Array(fileData, position, length);\n",
              "      position += length;\n",
              "\n",
              "      const base64 = btoa(String.fromCharCode.apply(null, chunk));\n",
              "      yield {\n",
              "        response: {\n",
              "          action: 'append',\n",
              "          file: file.name,\n",
              "          data: base64,\n",
              "        },\n",
              "      };\n",
              "\n",
              "      let percentDone = fileData.byteLength === 0 ?\n",
              "          100 :\n",
              "          Math.round((position / fileData.byteLength) * 100);\n",
              "      percent.textContent = `${percentDone}% done`;\n",
              "\n",
              "    } while (position < fileData.byteLength);\n",
              "  }\n",
              "\n",
              "  // All done.\n",
              "  yield {\n",
              "    response: {\n",
              "      action: 'complete',\n",
              "    }\n",
              "  };\n",
              "}\n",
              "\n",
              "scope.google = scope.google || {};\n",
              "scope.google.colab = scope.google.colab || {};\n",
              "scope.google.colab._files = {\n",
              "  _uploadFiles,\n",
              "  _uploadFilesContinue,\n",
              "};\n",
              "})(self);\n",
              "</script> "
            ]
          },
          "metadata": {}
        },
        {
          "output_type": "stream",
          "name": "stdout",
          "text": [
            "Saving kaggle.json to kaggle.json\n"
          ]
        },
        {
          "output_type": "execute_result",
          "data": {
            "text/plain": [
              "{'kaggle.json': b'{\"username\":\"muhamadgatotsupiadin\",\"key\":\"616e45e76c19d70693738d2d8d4fd541\"}'}"
            ]
          },
          "metadata": {},
          "execution_count": 7
        }
      ]
    },
    {
      "cell_type": "code",
      "source": [
        "!mkdir -p ~/.kaggle\n",
        "!cp kaggle.json ~/.kaggle/\n",
        "!chmod 600 ~/.kaggle/kaggle.json\n",
        "!ls ~/.kaggle"
      ],
      "metadata": {
        "colab": {
          "base_uri": "https://localhost:8080/"
        },
        "id": "RhDiZkG-DCCp",
        "outputId": "4b77d63c-107e-4c30-914f-97b05835bfc9"
      },
      "execution_count": null,
      "outputs": [
        {
          "output_type": "stream",
          "name": "stdout",
          "text": [
            "kaggle.json\n"
          ]
        }
      ]
    },
    {
      "cell_type": "code",
      "source": [
        "!kaggle datasets download -d hanifalirsyad/development-talent-upwork"
      ],
      "metadata": {
        "colab": {
          "base_uri": "https://localhost:8080/"
        },
        "id": "5UQ1NAXrD7wr",
        "outputId": "277cd3ea-ada2-4f54-bfb2-d29f810a8bc6"
      },
      "execution_count": null,
      "outputs": [
        {
          "output_type": "stream",
          "name": "stdout",
          "text": [
            "Downloading development-talent-upwork.zip to /content\n",
            "\r  0% 0.00/1.12M [00:00<?, ?B/s]\n",
            "\r100% 1.12M/1.12M [00:00<00:00, 149MB/s]\n"
          ]
        }
      ]
    },
    {
      "cell_type": "code",
      "source": [
        "!unzip '/content/development-talent-upwork.zip'"
      ],
      "metadata": {
        "colab": {
          "base_uri": "https://localhost:8080/"
        },
        "id": "hlLmLkHyED-v",
        "outputId": "06ee85c2-d4af-4015-d4bf-68e055d6d4bd"
      },
      "execution_count": null,
      "outputs": [
        {
          "output_type": "stream",
          "name": "stdout",
          "text": [
            "Archive:  /content/development-talent-upwork.zip\n",
            "  inflating: development_data_upwork.csv  \n"
          ]
        }
      ]
    },
    {
      "cell_type": "code",
      "source": [
        "upwork = pd.read_csv('/content/development_data_upwork.csv')\n",
        "upwork.head(3)"
      ],
      "metadata": {
        "colab": {
          "base_uri": "https://localhost:8080/",
          "height": 416
        },
        "id": "zawDTCSQEHuG",
        "outputId": "71190a5e-c6a4-43a6-a582-a70b8a7a8ef1"
      },
      "execution_count": null,
      "outputs": [
        {
          "output_type": "execute_result",
          "data": {
            "text/plain": [
              "   Unnamed: 0                                       joblink-href  \\\n",
              "0           0  https://www.upwork.com/services/product/develo...   \n",
              "1           1  https://www.upwork.com/services/product/a-gsui...   \n",
              "2           2  https://www.upwork.com/services/product/develo...   \n",
              "\n",
              "                                            jobtitle  talent_name  \\\n",
              "0  You will get a professional domain setup with ...  Muhammad L.   \n",
              "1  You will get an efficient email migration to/f...     Varqa K.   \n",
              "2  You will get a full Google Workspace/Office 36...          NaN   \n",
              "\n",
              "   talent_rating                                        talent_desc  \\\n",
              "0            NaN  If you are facing problems with your emails an...   \n",
              "1            4.8  I am able to deliver a migration to and from E...   \n",
              "2            5.0  I will migrate your data from one email server...   \n",
              "\n",
              "  price_starter price_standard price_advanced               category  \\\n",
              "0           $45            $90           $130  IT Support & Security   \n",
              "1        $2,000         $2,750         $3,500  IT Support & Security   \n",
              "2          $600         $1,200         $3,000  IT Support & Security   \n",
              "\n",
              "         subcat subdetailcat  \n",
              "0  Support & IT          NaN  \n",
              "1  Support & IT          NaN  \n",
              "2  Support & IT          NaN  "
            ],
            "text/html": [
              "\n",
              "  <div id=\"df-f194ca30-5d73-4e93-857b-759f0a723f65\">\n",
              "    <div class=\"colab-df-container\">\n",
              "      <div>\n",
              "<style scoped>\n",
              "    .dataframe tbody tr th:only-of-type {\n",
              "        vertical-align: middle;\n",
              "    }\n",
              "\n",
              "    .dataframe tbody tr th {\n",
              "        vertical-align: top;\n",
              "    }\n",
              "\n",
              "    .dataframe thead th {\n",
              "        text-align: right;\n",
              "    }\n",
              "</style>\n",
              "<table border=\"1\" class=\"dataframe\">\n",
              "  <thead>\n",
              "    <tr style=\"text-align: right;\">\n",
              "      <th></th>\n",
              "      <th>Unnamed: 0</th>\n",
              "      <th>joblink-href</th>\n",
              "      <th>jobtitle</th>\n",
              "      <th>talent_name</th>\n",
              "      <th>talent_rating</th>\n",
              "      <th>talent_desc</th>\n",
              "      <th>price_starter</th>\n",
              "      <th>price_standard</th>\n",
              "      <th>price_advanced</th>\n",
              "      <th>category</th>\n",
              "      <th>subcat</th>\n",
              "      <th>subdetailcat</th>\n",
              "    </tr>\n",
              "  </thead>\n",
              "  <tbody>\n",
              "    <tr>\n",
              "      <th>0</th>\n",
              "      <td>0</td>\n",
              "      <td>https://www.upwork.com/services/product/develo...</td>\n",
              "      <td>You will get a professional domain setup with ...</td>\n",
              "      <td>Muhammad L.</td>\n",
              "      <td>NaN</td>\n",
              "      <td>If you are facing problems with your emails an...</td>\n",
              "      <td>$45</td>\n",
              "      <td>$90</td>\n",
              "      <td>$130</td>\n",
              "      <td>IT Support &amp; Security</td>\n",
              "      <td>Support &amp; IT</td>\n",
              "      <td>NaN</td>\n",
              "    </tr>\n",
              "    <tr>\n",
              "      <th>1</th>\n",
              "      <td>1</td>\n",
              "      <td>https://www.upwork.com/services/product/a-gsui...</td>\n",
              "      <td>You will get an efficient email migration to/f...</td>\n",
              "      <td>Varqa K.</td>\n",
              "      <td>4.8</td>\n",
              "      <td>I am able to deliver a migration to and from E...</td>\n",
              "      <td>$2,000</td>\n",
              "      <td>$2,750</td>\n",
              "      <td>$3,500</td>\n",
              "      <td>IT Support &amp; Security</td>\n",
              "      <td>Support &amp; IT</td>\n",
              "      <td>NaN</td>\n",
              "    </tr>\n",
              "    <tr>\n",
              "      <th>2</th>\n",
              "      <td>2</td>\n",
              "      <td>https://www.upwork.com/services/product/develo...</td>\n",
              "      <td>You will get a full Google Workspace/Office 36...</td>\n",
              "      <td>NaN</td>\n",
              "      <td>5.0</td>\n",
              "      <td>I will migrate your data from one email server...</td>\n",
              "      <td>$600</td>\n",
              "      <td>$1,200</td>\n",
              "      <td>$3,000</td>\n",
              "      <td>IT Support &amp; Security</td>\n",
              "      <td>Support &amp; IT</td>\n",
              "      <td>NaN</td>\n",
              "    </tr>\n",
              "  </tbody>\n",
              "</table>\n",
              "</div>\n",
              "      <button class=\"colab-df-convert\" onclick=\"convertToInteractive('df-f194ca30-5d73-4e93-857b-759f0a723f65')\"\n",
              "              title=\"Convert this dataframe to an interactive table.\"\n",
              "              style=\"display:none;\">\n",
              "        \n",
              "  <svg xmlns=\"http://www.w3.org/2000/svg\" height=\"24px\"viewBox=\"0 0 24 24\"\n",
              "       width=\"24px\">\n",
              "    <path d=\"M0 0h24v24H0V0z\" fill=\"none\"/>\n",
              "    <path d=\"M18.56 5.44l.94 2.06.94-2.06 2.06-.94-2.06-.94-.94-2.06-.94 2.06-2.06.94zm-11 1L8.5 8.5l.94-2.06 2.06-.94-2.06-.94L8.5 2.5l-.94 2.06-2.06.94zm10 10l.94 2.06.94-2.06 2.06-.94-2.06-.94-.94-2.06-.94 2.06-2.06.94z\"/><path d=\"M17.41 7.96l-1.37-1.37c-.4-.4-.92-.59-1.43-.59-.52 0-1.04.2-1.43.59L10.3 9.45l-7.72 7.72c-.78.78-.78 2.05 0 2.83L4 21.41c.39.39.9.59 1.41.59.51 0 1.02-.2 1.41-.59l7.78-7.78 2.81-2.81c.8-.78.8-2.07 0-2.86zM5.41 20L4 18.59l7.72-7.72 1.47 1.35L5.41 20z\"/>\n",
              "  </svg>\n",
              "      </button>\n",
              "      \n",
              "  <style>\n",
              "    .colab-df-container {\n",
              "      display:flex;\n",
              "      flex-wrap:wrap;\n",
              "      gap: 12px;\n",
              "    }\n",
              "\n",
              "    .colab-df-convert {\n",
              "      background-color: #E8F0FE;\n",
              "      border: none;\n",
              "      border-radius: 50%;\n",
              "      cursor: pointer;\n",
              "      display: none;\n",
              "      fill: #1967D2;\n",
              "      height: 32px;\n",
              "      padding: 0 0 0 0;\n",
              "      width: 32px;\n",
              "    }\n",
              "\n",
              "    .colab-df-convert:hover {\n",
              "      background-color: #E2EBFA;\n",
              "      box-shadow: 0px 1px 2px rgba(60, 64, 67, 0.3), 0px 1px 3px 1px rgba(60, 64, 67, 0.15);\n",
              "      fill: #174EA6;\n",
              "    }\n",
              "\n",
              "    [theme=dark] .colab-df-convert {\n",
              "      background-color: #3B4455;\n",
              "      fill: #D2E3FC;\n",
              "    }\n",
              "\n",
              "    [theme=dark] .colab-df-convert:hover {\n",
              "      background-color: #434B5C;\n",
              "      box-shadow: 0px 1px 3px 1px rgba(0, 0, 0, 0.15);\n",
              "      filter: drop-shadow(0px 1px 2px rgba(0, 0, 0, 0.3));\n",
              "      fill: #FFFFFF;\n",
              "    }\n",
              "  </style>\n",
              "\n",
              "      <script>\n",
              "        const buttonEl =\n",
              "          document.querySelector('#df-f194ca30-5d73-4e93-857b-759f0a723f65 button.colab-df-convert');\n",
              "        buttonEl.style.display =\n",
              "          google.colab.kernel.accessAllowed ? 'block' : 'none';\n",
              "\n",
              "        async function convertToInteractive(key) {\n",
              "          const element = document.querySelector('#df-f194ca30-5d73-4e93-857b-759f0a723f65');\n",
              "          const dataTable =\n",
              "            await google.colab.kernel.invokeFunction('convertToInteractive',\n",
              "                                                     [key], {});\n",
              "          if (!dataTable) return;\n",
              "\n",
              "          const docLinkHtml = 'Like what you see? Visit the ' +\n",
              "            '<a target=\"_blank\" href=https://colab.research.google.com/notebooks/data_table.ipynb>data table notebook</a>'\n",
              "            + ' to learn more about interactive tables.';\n",
              "          element.innerHTML = '';\n",
              "          dataTable['output_type'] = 'display_data';\n",
              "          await google.colab.output.renderOutput(dataTable, element);\n",
              "          const docLink = document.createElement('div');\n",
              "          docLink.innerHTML = docLinkHtml;\n",
              "          element.appendChild(docLink);\n",
              "        }\n",
              "      </script>\n",
              "    </div>\n",
              "  </div>\n",
              "  "
            ]
          },
          "metadata": {},
          "execution_count": 44
        }
      ]
    },
    {
      "cell_type": "markdown",
      "source": [
        "Drop collumns"
      ],
      "metadata": {
        "id": "XzJuWA-0UB9r"
      }
    },
    {
      "cell_type": "code",
      "source": [
        "columns = ['Unnamed: 0', 'subdetailcat']\n",
        "upwork.drop(columns, inplace=True, axis=1)"
      ],
      "metadata": {
        "id": "cpUTmdoHEP3K"
      },
      "execution_count": null,
      "outputs": []
    },
    {
      "cell_type": "markdown",
      "source": [
        "Renaming Collumns"
      ],
      "metadata": {
        "id": "bWznbHM1UDhb"
      }
    },
    {
      "cell_type": "code",
      "source": [
        "upwork.rename(columns={'joblink-href': 'joblink', 'jobtitle': 'title', 'talent_name': 'name', 'talent_rating': 'rating', 'talent_desc': 'description'}, inplace=True)"
      ],
      "metadata": {
        "id": "wI5YuachH7rI"
      },
      "execution_count": null,
      "outputs": []
    },
    {
      "cell_type": "markdown",
      "source": [
        "Making position collumns"
      ],
      "metadata": {
        "id": "W1Qw66m8T9RJ"
      }
    },
    {
      "cell_type": "code",
      "source": [
        "upwork = upwork.iloc[:, [1,2,3,5,6,7,8,9,0]]"
      ],
      "metadata": {
        "id": "ZbSDJbSzK4zK"
      },
      "execution_count": null,
      "outputs": []
    },
    {
      "cell_type": "markdown",
      "source": [
        "Dropping $ in price collumns"
      ],
      "metadata": {
        "id": "IhG2WRc9Tiqx"
      }
    },
    {
      "cell_type": "code",
      "source": [
        "upwork['price_starter'] = upwork['price_starter'].str.replace('$', '')\n",
        "upwork['price_standard'] = upwork['price_standard'].str.replace('$', '')\n",
        "upwork['price_advanced'] = upwork['price_advanced'].str.replace('$', '')"
      ],
      "metadata": {
        "colab": {
          "base_uri": "https://localhost:8080/"
        },
        "id": "gmlnf3b5Ss65",
        "outputId": "480a8b59-fca3-4ac1-f7ab-b07ff87c8608"
      },
      "execution_count": null,
      "outputs": [
        {
          "output_type": "stream",
          "name": "stderr",
          "text": [
            "/usr/local/lib/python3.7/dist-packages/ipykernel_launcher.py:1: FutureWarning: The default value of regex will change from True to False in a future version. In addition, single character regular expressions will *not* be treated as literal strings when regex=True.\n",
            "  \"\"\"Entry point for launching an IPython kernel.\n",
            "/usr/local/lib/python3.7/dist-packages/ipykernel_launcher.py:2: FutureWarning: The default value of regex will change from True to False in a future version. In addition, single character regular expressions will *not* be treated as literal strings when regex=True.\n",
            "  \n",
            "/usr/local/lib/python3.7/dist-packages/ipykernel_launcher.py:3: FutureWarning: The default value of regex will change from True to False in a future version. In addition, single character regular expressions will *not* be treated as literal strings when regex=True.\n",
            "  This is separate from the ipykernel package so we can avoid doing imports until\n"
          ]
        }
      ]
    },
    {
      "cell_type": "markdown",
      "source": [
        "### Cleaning Null data"
      ],
      "metadata": {
        "id": "zh2S3VdwUO57"
      }
    },
    {
      "cell_type": "code",
      "source": [
        "upwork.isnull().sum()"
      ],
      "metadata": {
        "colab": {
          "base_uri": "https://localhost:8080/"
        },
        "id": "24sleMjGJNIi",
        "outputId": "4f277fd7-8213-46a6-8110-e8314cd66370"
      },
      "execution_count": null,
      "outputs": [
        {
          "output_type": "execute_result",
          "data": {
            "text/plain": [
              "title               0\n",
              "name              816\n",
              "rating            544\n",
              "price_starter     937\n",
              "price_standard    937\n",
              "price_advanced    937\n",
              "category            0\n",
              "subcat            999\n",
              "joblink             0\n",
              "dtype: int64"
            ]
          },
          "metadata": {},
          "execution_count": 18
        }
      ]
    },
    {
      "cell_type": "code",
      "source": [
        "upwork.shape"
      ],
      "metadata": {
        "colab": {
          "base_uri": "https://localhost:8080/"
        },
        "id": "1-FplCpGJpvi",
        "outputId": "d3678f39-995f-4622-9e99-7eb33de05e23"
      },
      "execution_count": null,
      "outputs": [
        {
          "output_type": "execute_result",
          "data": {
            "text/plain": [
              "(3797, 9)"
            ]
          },
          "metadata": {},
          "execution_count": 19
        }
      ]
    },
    {
      "cell_type": "code",
      "source": [
        "upwork_clean = upwork.dropna()\n",
        "print(upwork_clean)"
      ],
      "metadata": {
        "colab": {
          "base_uri": "https://localhost:8080/"
        },
        "id": "XJugEFHcJRU4",
        "outputId": "c096d63e-7626-4e8e-f15b-7756402f11f4"
      },
      "execution_count": null,
      "outputs": [
        {
          "output_type": "stream",
          "name": "stdout",
          "text": [
            "                                                  title           name  \\\n",
            "1     You will get an efficient email migration to/f...       Varqa K.   \n",
            "5      You will get ASP.NET Core (C#) Part-time Support       LAKIR P.   \n",
            "6     You will get end-to-end Remote Infrastructure ...   Indramani G.   \n",
            "8     You will get dockerize your app and fix docker...    Muhammad U.   \n",
            "10    You will get Patch Configuration with Monitori...  Vishaldeep S.   \n",
            "...                                                 ...            ...   \n",
            "2792  You will get python web scraping and automatio...      Hammad R.   \n",
            "2793  You will get Web Scraping, Data Extraction, Da...      Alpesh K.   \n",
            "2794           You will get your app or website tested!       Mário R.   \n",
            "2796  You will get a Statistical Review of a Grant o...     Michael B.   \n",
            "2797  You will get a well converted and a formatted ...     Sampath K.   \n",
            "\n",
            "      rating price_starter price_standard price_advanced  \\\n",
            "1        4.8         2,000          2,750          3,500   \n",
            "5        5.0           375            660          1,000   \n",
            "6        5.0            30             45             65   \n",
            "8        4.3            50             80            150   \n",
            "10       4.3           400            600            800   \n",
            "...      ...           ...            ...            ...   \n",
            "2792     4.9            75            100            150   \n",
            "2793     5.0           100            200            300   \n",
            "2794     5.0            30             40             70   \n",
            "2796     5.0            80            120            200   \n",
            "2797     4.9           100            150            250   \n",
            "\n",
            "                     category                   subcat  \\\n",
            "1       IT Support & Security             Support & IT   \n",
            "5       IT Support & Security             Support & IT   \n",
            "6       IT Support & Security             Support & IT   \n",
            "8       IT Support & Security             Support & IT   \n",
            "10      IT Support & Security             Support & IT   \n",
            "...                       ...                      ...   \n",
            "2792  Data Analysis & Testing  Data Analysis & Reports   \n",
            "2793  Data Analysis & Testing  Data Analysis & Reports   \n",
            "2794  Data Analysis & Testing             User Testing   \n",
            "2796  Data Analysis & Testing  Data Analysis & Reports   \n",
            "2797  Data Analysis & Testing  Data Analysis & Reports   \n",
            "\n",
            "                                                joblink  \n",
            "1     https://www.upwork.com/services/product/a-gsui...  \n",
            "5     https://www.upwork.com/services/product/develo...  \n",
            "6     https://www.upwork.com/services/product/end-to...  \n",
            "8     https://www.upwork.com/services/product/docker...  \n",
            "10    https://www.upwork.com/services/product/patch-...  \n",
            "...                                                 ...  \n",
            "2792  https://www.upwork.com/services/product/develo...  \n",
            "2793  https://www.upwork.com/services/product/develo...  \n",
            "2794  https://www.upwork.com/services/product/develo...  \n",
            "2796  https://www.upwork.com/services/product/a-stat...  \n",
            "2797  https://www.upwork.com/services/product/a-well...  \n",
            "\n",
            "[1757 rows x 9 columns]\n"
          ]
        }
      ]
    },
    {
      "cell_type": "code",
      "source": [
        "upwork_clean.isnull().sum()"
      ],
      "metadata": {
        "colab": {
          "base_uri": "https://localhost:8080/"
        },
        "id": "5Vx6VFSvJf_5",
        "outputId": "f9ccc885-18db-47db-8c1e-747096e506e5"
      },
      "execution_count": null,
      "outputs": [
        {
          "output_type": "execute_result",
          "data": {
            "text/plain": [
              "title             0\n",
              "name              0\n",
              "rating            0\n",
              "price_starter     0\n",
              "price_standard    0\n",
              "price_advanced    0\n",
              "category          0\n",
              "subcat            0\n",
              "joblink           0\n",
              "dtype: int64"
            ]
          },
          "metadata": {},
          "execution_count": 21
        }
      ]
    },
    {
      "cell_type": "code",
      "source": [
        "upwork_clean.shape"
      ],
      "metadata": {
        "colab": {
          "base_uri": "https://localhost:8080/"
        },
        "id": "U2OFVoMPJsgI",
        "outputId": "881c93af-9924-469c-eedf-c9800176cb30"
      },
      "execution_count": null,
      "outputs": [
        {
          "output_type": "execute_result",
          "data": {
            "text/plain": [
              "(1757, 9)"
            ]
          },
          "metadata": {},
          "execution_count": 22
        }
      ]
    },
    {
      "cell_type": "code",
      "source": [
        "upwork_clean.groupby('subcat').count()"
      ],
      "metadata": {
        "id": "FtOrDdHnJ1Qw"
      },
      "execution_count": null,
      "outputs": []
    },
    {
      "cell_type": "code",
      "source": [
        "upwork_clean.groupby('category').count()"
      ],
      "metadata": {
        "id": "rp7cL530KHKA"
      },
      "execution_count": null,
      "outputs": []
    },
    {
      "cell_type": "code",
      "source": [
        "upwork_clean.groupby('rating').count()"
      ],
      "metadata": {
        "id": "TbdEdSNuKM6r"
      },
      "execution_count": null,
      "outputs": []
    },
    {
      "cell_type": "markdown",
      "source": [
        "### Exploratory Data Analysis"
      ],
      "metadata": {
        "id": "JDbIwjXfWXM0"
      }
    },
    {
      "cell_type": "code",
      "source": [
        "import matplotlib.pyplot as plt\n",
        "import seaborn as sns"
      ],
      "metadata": {
        "id": "pcBFgVIPVuVb"
      },
      "execution_count": null,
      "outputs": []
    },
    {
      "cell_type": "code",
      "source": [
        "plt.figure(figsize=(15,15))\n",
        "sns.countplot(y=upwork_clean['category'])\n",
        "plt.show()"
      ],
      "metadata": {
        "colab": {
          "base_uri": "https://localhost:8080/",
          "height": 563
        },
        "id": "db1fmjqKGdY3",
        "outputId": "1e0745ff-4b42-4c50-9336-947f0b5b58b7"
      },
      "execution_count": null,
      "outputs": [
        {
          "output_type": "display_data",
          "data": {
            "text/plain": [
              "<Figure size 1080x1080 with 1 Axes>"
            ],
            "image/png": "[encoded data removed]"
          },
          "metadata": {
            "needs_background": "light"
          }
        }
      ]
    },
    {
      "cell_type": "code",
      "source": [
        "plt.figure(figsize=(15,15))\n",
        "sns.countplot(y=upwork_clean['subcat'])\n",
        "plt.show()"
      ],
      "metadata": {
        "colab": {
          "base_uri": "https://localhost:8080/",
          "height": 541
        },
        "id": "tJdJ5OsUV8Cf",
        "outputId": "0282d985-6b7f-4aba-ed2b-7629a10fc4f9"
      },
      "execution_count": null,
      "outputs": [
        {
          "output_type": "display_data",
          "data": {
            "text/plain": [
              "<Figure size 1080x1080 with 1 Axes>"
            ],
            "image/png": "[encoded data removed]"
          },
          "metadata": {
            "needs_background": "light"
          }
        }
      ]
    },
    {
      "cell_type": "code",
      "source": [
        "plt.figure(figsize=(15,30))\n",
        "sns.countplot(y=upwork_clean['price_advanced'])\n",
        "plt.show()"
      ],
      "metadata": {
        "id": "fcN1CfK9V_kx"
      },
      "execution_count": null,
      "outputs": []
    },
    {
      "cell_type": "code",
      "source": [
        "upwork_clean\n"
      ],
      "metadata": {
        "colab": {
          "base_uri": "https://localhost:8080/",
          "height": 1000
        },
        "id": "72IPWcmZWJ3v",
        "outputId": "c7d70239-2fc9-49da-b8bd-b6bbf10f206a"
      },
      "execution_count": null,
      "outputs": [
        {
          "output_type": "execute_result",
          "data": {
            "text/plain": [
              "                                                  title           name  \\\n",
              "1     You will get an efficient email migration to/f...       Varqa K.   \n",
              "5      You will get ASP.NET Core (C#) Part-time Support       LAKIR P.   \n",
              "6     You will get end-to-end Remote Infrastructure ...   Indramani G.   \n",
              "8     You will get dockerize your app and fix docker...    Muhammad U.   \n",
              "10    You will get Patch Configuration with Monitori...  Vishaldeep S.   \n",
              "...                                                 ...            ...   \n",
              "2792  You will get python web scraping and automatio...      Hammad R.   \n",
              "2793  You will get Web Scraping, Data Extraction, Da...      Alpesh K.   \n",
              "2794           You will get your app or website tested!       Mário R.   \n",
              "2796  You will get a Statistical Review of a Grant o...     Michael B.   \n",
              "2797  You will get a well converted and a formatted ...     Sampath K.   \n",
              "\n",
              "      rating price_starter price_standard price_advanced  \\\n",
              "1        4.8         2,000          2,750          3,500   \n",
              "5        5.0           375            660          1,000   \n",
              "6        5.0            30             45             65   \n",
              "8        4.3            50             80            150   \n",
              "10       4.3           400            600            800   \n",
              "...      ...           ...            ...            ...   \n",
              "2792     4.9            75            100            150   \n",
              "2793     5.0           100            200            300   \n",
              "2794     5.0            30             40             70   \n",
              "2796     5.0            80            120            200   \n",
              "2797     4.9           100            150            250   \n",
              "\n",
              "                     category                   subcat  \\\n",
              "1       IT Support & Security             Support & IT   \n",
              "5       IT Support & Security             Support & IT   \n",
              "6       IT Support & Security             Support & IT   \n",
              "8       IT Support & Security             Support & IT   \n",
              "10      IT Support & Security             Support & IT   \n",
              "...                       ...                      ...   \n",
              "2792  Data Analysis & Testing  Data Analysis & Reports   \n",
              "2793  Data Analysis & Testing  Data Analysis & Reports   \n",
              "2794  Data Analysis & Testing             User Testing   \n",
              "2796  Data Analysis & Testing  Data Analysis & Reports   \n",
              "2797  Data Analysis & Testing  Data Analysis & Reports   \n",
              "\n",
              "                                                joblink  \n",
              "1     https://www.upwork.com/services/product/a-gsui...  \n",
              "5     https://www.upwork.com/services/product/develo...  \n",
              "6     https://www.upwork.com/services/product/end-to...  \n",
              "8     https://www.upwork.com/services/product/docker...  \n",
              "10    https://www.upwork.com/services/product/patch-...  \n",
              "...                                                 ...  \n",
              "2792  https://www.upwork.com/services/product/develo...  \n",
              "2793  https://www.upwork.com/services/product/develo...  \n",
              "2794  https://www.upwork.com/services/product/develo...  \n",
              "2796  https://www.upwork.com/services/product/a-stat...  \n",
              "2797  https://www.upwork.com/services/product/a-well...  \n",
              "\n",
              "[1757 rows x 9 columns]"
            ],
            "text/html": [
              "\n",
              "  <div id=\"df-9ae4ec51-9fdd-4b9a-b620-b75bcf069572\">\n",
              "    <div class=\"colab-df-container\">\n",
              "      <div>\n",
              "<style scoped>\n",
              "    .dataframe tbody tr th:only-of-type {\n",
              "        vertical-align: middle;\n",
              "    }\n",
              "\n",
              "    .dataframe tbody tr th {\n",
              "        vertical-align: top;\n",
              "    }\n",
              "\n",
              "    .dataframe thead th {\n",
              "        text-align: right;\n",
              "    }\n",
              "</style>\n",
              "<table border=\"1\" class=\"dataframe\">\n",
              "  <thead>\n",
              "    <tr style=\"text-align: right;\">\n",
              "      <th></th>\n",
              "      <th>title</th>\n",
              "      <th>name</th>\n",
              "      <th>rating</th>\n",
              "      <th>price_starter</th>\n",
              "      <th>price_standard</th>\n",
              "      <th>price_advanced</th>\n",
              "      <th>category</th>\n",
              "      <th>subcat</th>\n",
              "      <th>joblink</th>\n",
              "    </tr>\n",
              "  </thead>\n",
              "  <tbody>\n",
              "    <tr>\n",
              "      <th>1</th>\n",
              "      <td>You will get an efficient email migration to/f...</td>\n",
              "      <td>Varqa K.</td>\n",
              "      <td>4.8</td>\n",
              "      <td>2,000</td>\n",
              "      <td>2,750</td>\n",
              "      <td>3,500</td>\n",
              "      <td>IT Support &amp; Security</td>\n",
              "      <td>Support &amp; IT</td>\n",
              "      <td>https://www.upwork.com/services/product/a-gsui...</td>\n",
              "    </tr>\n",
              "    <tr>\n",
              "      <th>5</th>\n",
              "      <td>You will get ASP.NET Core (C#) Part-time Support</td>\n",
              "      <td>LAKIR P.</td>\n",
              "      <td>5.0</td>\n",
              "      <td>375</td>\n",
              "      <td>660</td>\n",
              "      <td>1,000</td>\n",
              "      <td>IT Support &amp; Security</td>\n",
              "      <td>Support &amp; IT</td>\n",
              "      <td>https://www.upwork.com/services/product/develo...</td>\n",
              "    </tr>\n",
              "    <tr>\n",
              "      <th>6</th>\n",
              "      <td>You will get end-to-end Remote Infrastructure ...</td>\n",
              "      <td>Indramani G.</td>\n",
              "      <td>5.0</td>\n",
              "      <td>30</td>\n",
              "      <td>45</td>\n",
              "      <td>65</td>\n",
              "      <td>IT Support &amp; Security</td>\n",
              "      <td>Support &amp; IT</td>\n",
              "      <td>https://www.upwork.com/services/product/end-to...</td>\n",
              "    </tr>\n",
              "    <tr>\n",
              "      <th>8</th>\n",
              "      <td>You will get dockerize your app and fix docker...</td>\n",
              "      <td>Muhammad U.</td>\n",
              "      <td>4.3</td>\n",
              "      <td>50</td>\n",
              "      <td>80</td>\n",
              "      <td>150</td>\n",
              "      <td>IT Support &amp; Security</td>\n",
              "      <td>Support &amp; IT</td>\n",
              "      <td>https://www.upwork.com/services/product/docker...</td>\n",
              "    </tr>\n",
              "    <tr>\n",
              "      <th>10</th>\n",
              "      <td>You will get Patch Configuration with Monitori...</td>\n",
              "      <td>Vishaldeep S.</td>\n",
              "      <td>4.3</td>\n",
              "      <td>400</td>\n",
              "      <td>600</td>\n",
              "      <td>800</td>\n",
              "      <td>IT Support &amp; Security</td>\n",
              "      <td>Support &amp; IT</td>\n",
              "      <td>https://www.upwork.com/services/product/patch-...</td>\n",
              "    </tr>\n",
              "    <tr>\n",
              "      <th>...</th>\n",
              "      <td>...</td>\n",
              "      <td>...</td>\n",
              "      <td>...</td>\n",
              "      <td>...</td>\n",
              "      <td>...</td>\n",
              "      <td>...</td>\n",
              "      <td>...</td>\n",
              "      <td>...</td>\n",
              "      <td>...</td>\n",
              "    </tr>\n",
              "    <tr>\n",
              "      <th>2792</th>\n",
              "      <td>You will get python web scraping and automatio...</td>\n",
              "      <td>Hammad R.</td>\n",
              "      <td>4.9</td>\n",
              "      <td>75</td>\n",
              "      <td>100</td>\n",
              "      <td>150</td>\n",
              "      <td>Data Analysis &amp; Testing</td>\n",
              "      <td>Data Analysis &amp; Reports</td>\n",
              "      <td>https://www.upwork.com/services/product/develo...</td>\n",
              "    </tr>\n",
              "    <tr>\n",
              "      <th>2793</th>\n",
              "      <td>You will get Web Scraping, Data Extraction, Da...</td>\n",
              "      <td>Alpesh K.</td>\n",
              "      <td>5.0</td>\n",
              "      <td>100</td>\n",
              "      <td>200</td>\n",
              "      <td>300</td>\n",
              "      <td>Data Analysis &amp; Testing</td>\n",
              "      <td>Data Analysis &amp; Reports</td>\n",
              "      <td>https://www.upwork.com/services/product/develo...</td>\n",
              "    </tr>\n",
              "    <tr>\n",
              "      <th>2794</th>\n",
              "      <td>You will get your app or website tested!</td>\n",
              "      <td>Mário R.</td>\n",
              "      <td>5.0</td>\n",
              "      <td>30</td>\n",
              "      <td>40</td>\n",
              "      <td>70</td>\n",
              "      <td>Data Analysis &amp; Testing</td>\n",
              "      <td>User Testing</td>\n",
              "      <td>https://www.upwork.com/services/product/develo...</td>\n",
              "    </tr>\n",
              "    <tr>\n",
              "      <th>2796</th>\n",
              "      <td>You will get a Statistical Review of a Grant o...</td>\n",
              "      <td>Michael B.</td>\n",
              "      <td>5.0</td>\n",
              "      <td>80</td>\n",
              "      <td>120</td>\n",
              "      <td>200</td>\n",
              "      <td>Data Analysis &amp; Testing</td>\n",
              "      <td>Data Analysis &amp; Reports</td>\n",
              "      <td>https://www.upwork.com/services/product/a-stat...</td>\n",
              "    </tr>\n",
              "    <tr>\n",
              "      <th>2797</th>\n",
              "      <td>You will get a well converted and a formatted ...</td>\n",
              "      <td>Sampath K.</td>\n",
              "      <td>4.9</td>\n",
              "      <td>100</td>\n",
              "      <td>150</td>\n",
              "      <td>250</td>\n",
              "      <td>Data Analysis &amp; Testing</td>\n",
              "      <td>Data Analysis &amp; Reports</td>\n",
              "      <td>https://www.upwork.com/services/product/a-well...</td>\n",
              "    </tr>\n",
              "  </tbody>\n",
              "</table>\n",
              "<p>1757 rows × 9 columns</p>\n",
              "</div>\n",
              "      <button class=\"colab-df-convert\" onclick=\"convertToInteractive('df-9ae4ec51-9fdd-4b9a-b620-b75bcf069572')\"\n",
              "              title=\"Convert this dataframe to an interactive table.\"\n",
              "              style=\"display:none;\">\n",
              "        \n",
              "  <svg xmlns=\"http://www.w3.org/2000/svg\" height=\"24px\"viewBox=\"0 0 24 24\"\n",
              "       width=\"24px\">\n",
              "    <path d=\"M0 0h24v24H0V0z\" fill=\"none\"/>\n",
              "    <path d=\"M18.56 5.44l.94 2.06.94-2.06 2.06-.94-2.06-.94-.94-2.06-.94 2.06-2.06.94zm-11 1L8.5 8.5l.94-2.06 2.06-.94-2.06-.94L8.5 2.5l-.94 2.06-2.06.94zm10 10l.94 2.06.94-2.06 2.06-.94-2.06-.94-.94-2.06-.94 2.06-2.06.94z\"/><path d=\"M17.41 7.96l-1.37-1.37c-.4-.4-.92-.59-1.43-.59-.52 0-1.04.2-1.43.59L10.3 9.45l-7.72 7.72c-.78.78-.78 2.05 0 2.83L4 21.41c.39.39.9.59 1.41.59.51 0 1.02-.2 1.41-.59l7.78-7.78 2.81-2.81c.8-.78.8-2.07 0-2.86zM5.41 20L4 18.59l7.72-7.72 1.47 1.35L5.41 20z\"/>\n",
              "  </svg>\n",
              "      </button>\n",
              "      \n",
              "  <style>\n",
              "    .colab-df-container {\n",
              "      display:flex;\n",
              "      flex-wrap:wrap;\n",
              "      gap: 12px;\n",
              "    }\n",
              "\n",
              "    .colab-df-convert {\n",
              "      background-color: #E8F0FE;\n",
              "      border: none;\n",
              "      border-radius: 50%;\n",
              "      cursor: pointer;\n",
              "      display: none;\n",
              "      fill: #1967D2;\n",
              "      height: 32px;\n",
              "      padding: 0 0 0 0;\n",
              "      width: 32px;\n",
              "    }\n",
              "\n",
              "    .colab-df-convert:hover {\n",
              "      background-color: #E2EBFA;\n",
              "      box-shadow: 0px 1px 2px rgba(60, 64, 67, 0.3), 0px 1px 3px 1px rgba(60, 64, 67, 0.15);\n",
              "      fill: #174EA6;\n",
              "    }\n",
              "\n",
              "    [theme=dark] .colab-df-convert {\n",
              "      background-color: #3B4455;\n",
              "      fill: #D2E3FC;\n",
              "    }\n",
              "\n",
              "    [theme=dark] .colab-df-convert:hover {\n",
              "      background-color: #434B5C;\n",
              "      box-shadow: 0px 1px 3px 1px rgba(0, 0, 0, 0.15);\n",
              "      filter: drop-shadow(0px 1px 2px rgba(0, 0, 0, 0.3));\n",
              "      fill: #FFFFFF;\n",
              "    }\n",
              "  </style>\n",
              "\n",
              "      <script>\n",
              "        const buttonEl =\n",
              "          document.querySelector('#df-9ae4ec51-9fdd-4b9a-b620-b75bcf069572 button.colab-df-convert');\n",
              "        buttonEl.style.display =\n",
              "          google.colab.kernel.accessAllowed ? 'block' : 'none';\n",
              "\n",
              "        async function convertToInteractive(key) {\n",
              "          const element = document.querySelector('#df-9ae4ec51-9fdd-4b9a-b620-b75bcf069572');\n",
              "          const dataTable =\n",
              "            await google.colab.kernel.invokeFunction('convertToInteractive',\n",
              "                                                     [key], {});\n",
              "          if (!dataTable) return;\n",
              "\n",
              "          const docLinkHtml = 'Like what you see? Visit the ' +\n",
              "            '<a target=\"_blank\" href=https://colab.research.google.com/notebooks/data_table.ipynb>data table notebook</a>'\n",
              "            + ' to learn more about interactive tables.';\n",
              "          element.innerHTML = '';\n",
              "          dataTable['output_type'] = 'display_data';\n",
              "          await google.colab.output.renderOutput(dataTable, element);\n",
              "          const docLink = document.createElement('div');\n",
              "          docLink.innerHTML = docLinkHtml;\n",
              "          element.appendChild(docLink);\n",
              "        }\n",
              "      </script>\n",
              "    </div>\n",
              "  </div>\n",
              "  "
            ]
          },
          "metadata": {},
          "execution_count": 107
        }
      ]
    },
    {
      "cell_type": "code",
      "source": [
        "upwork_clean.duplicated().sum()"
      ],
      "metadata": {
        "colab": {
          "base_uri": "https://localhost:8080/"
        },
        "id": "ogsgJW9zWhNq",
        "outputId": "360c4cac-0e09-4092-db19-f008b986fa52"
      },
      "execution_count": null,
      "outputs": [
        {
          "output_type": "execute_result",
          "data": {
            "text/plain": [
              "0"
            ]
          },
          "metadata": {},
          "execution_count": 25
        }
      ]
    },
    {
      "cell_type": "markdown",
      "source": [
        "### Popularity Based Recomender system"
      ],
      "metadata": {
        "id": "BruNb2ZhW3JJ"
      }
    },
    {
      "cell_type": "markdown",
      "source": [
        "Export Dataset"
      ],
      "metadata": {
        "id": "9GfslUPrbIJz"
      }
    },
    {
      "cell_type": "code",
      "source": [
        "import pandas as pd\n",
        "\n",
        "\n",
        "df = pd.DataFrame(upwork)\n",
        "\n",
        "df.to_excel(r'upwork.xlsx', index=False)"
      ],
      "metadata": {
        "id": "VBXb9dY_YPyQ"
      },
      "execution_count": null,
      "outputs": []
    },
    {
      "cell_type": "markdown",
      "source": [
        "With Review dataset\n",
        "\n"
      ],
      "metadata": {
        "id": "7HUP_foybYyB"
      }
    },
    {
      "cell_type": "code",
      "source": [
        "upwork_clean_rev = pd.read_excel('/content/upwork_clean_review.xlsx')\n",
        "upwork_clean_rev"
      ],
      "metadata": {
        "id": "3aV_lsOhaTGb"
      },
      "execution_count": null,
      "outputs": []
    },
    {
      "cell_type": "code",
      "source": [
        "upwork_clean_rev['review'] = upwork_clean_rev['review'].str.replace('(', '')\n",
        "upwork_clean_rev['review'] = upwork_clean_rev['review'].str.replace(')', '')"
      ],
      "metadata": {
        "colab": {
          "base_uri": "https://localhost:8080/"
        },
        "id": "u-q70ZFvbU3Z",
        "outputId": "8df80bae-90b2-4e9c-e6ed-65011d14f813"
      },
      "execution_count": null,
      "outputs": [
        {
          "output_type": "stream",
          "name": "stderr",
          "text": [
            "/usr/local/lib/python3.7/dist-packages/ipykernel_launcher.py:1: FutureWarning: The default value of regex will change from True to False in a future version. In addition, single character regular expressions will *not* be treated as literal strings when regex=True.\n",
            "  \"\"\"Entry point for launching an IPython kernel.\n",
            "/usr/local/lib/python3.7/dist-packages/ipykernel_launcher.py:2: FutureWarning: The default value of regex will change from True to False in a future version. In addition, single character regular expressions will *not* be treated as literal strings when regex=True.\n",
            "  \n"
          ]
        }
      ]
    },
    {
      "cell_type": "code",
      "source": [
        "upwork_clean_rev"
      ],
      "metadata": {
        "colab": {
          "base_uri": "https://localhost:8080/",
          "height": 1000
        },
        "id": "N4LoFq75brhg",
        "outputId": "dded5d04-4afa-40f3-ca96-0454daeb5908"
      },
      "execution_count": null,
      "outputs": [
        {
          "output_type": "execute_result",
          "data": {
            "text/plain": [
              "                                                  title           name  \\\n",
              "0     You will get an efficient email migration to/f...       Varqa K.   \n",
              "1      You will get ASP.NET Core (C#) Part-time Support       LAKIR P.   \n",
              "2     You will get end-to-end Remote Infrastructure ...   Indramani G.   \n",
              "3     You will get dockerize your app and fix docker...    Muhammad U.   \n",
              "4     You will get Patch Configuration with Monitori...  Vishaldeep S.   \n",
              "...                                                 ...            ...   \n",
              "1752  You will get python web scraping and automatio...      Hammad R.   \n",
              "1753  You will get Web Scraping, Data Extraction, Da...      Alpesh K.   \n",
              "1754           You will get your app or website tested!       Mário R.   \n",
              "1755  You will get a Statistical Review of a Grant o...     Michael B.   \n",
              "1756  You will get a well converted and a formatted ...     Sampath K.   \n",
              "\n",
              "      rating Review price_starter price_standard price_advanced  \\\n",
              "0        4.8   2840         2,000          2,750          3,500   \n",
              "1        5.0      1           375            660          1,000   \n",
              "2        5.0    721            30             45             65   \n",
              "3        4.3    342            50             80            150   \n",
              "4        4.3    295           400            600            800   \n",
              "...      ...    ...           ...            ...            ...   \n",
              "1752     4.9   1207            75            100            150   \n",
              "1753     5.0     58           100            200            300   \n",
              "1754     5.0    270            30             40             70   \n",
              "1755     5.0    521            80            120            200   \n",
              "1756     4.9     51           100            150            250   \n",
              "\n",
              "                     category                   subcat  \\\n",
              "0       IT Support & Security             Support & IT   \n",
              "1       IT Support & Security             Support & IT   \n",
              "2       IT Support & Security             Support & IT   \n",
              "3       IT Support & Security             Support & IT   \n",
              "4       IT Support & Security             Support & IT   \n",
              "...                       ...                      ...   \n",
              "1752  Data Analysis & Testing  Data Analysis & Reports   \n",
              "1753  Data Analysis & Testing  Data Analysis & Reports   \n",
              "1754  Data Analysis & Testing             User Testing   \n",
              "1755  Data Analysis & Testing  Data Analysis & Reports   \n",
              "1756  Data Analysis & Testing  Data Analysis & Reports   \n",
              "\n",
              "                                                joblink  \n",
              "0     https://www.upwork.com/services/product/a-gsui...  \n",
              "1     https://www.upwork.com/services/product/develo...  \n",
              "2     https://www.upwork.com/services/product/end-to...  \n",
              "3     https://www.upwork.com/services/product/docker...  \n",
              "4     https://www.upwork.com/services/product/patch-...  \n",
              "...                                                 ...  \n",
              "1752  https://www.upwork.com/services/product/develo...  \n",
              "1753  https://www.upwork.com/services/product/develo...  \n",
              "1754  https://www.upwork.com/services/product/develo...  \n",
              "1755  https://www.upwork.com/services/product/a-stat...  \n",
              "1756  https://www.upwork.com/services/product/a-well...  \n",
              "\n",
              "[1757 rows x 10 columns]"
            ],
            "text/html": [
              "\n",
              "  <div id=\"df-d7df937b-a963-4947-af8a-28526ea26050\">\n",
              "    <div class=\"colab-df-container\">\n",
              "      <div>\n",
              "<style scoped>\n",
              "    .dataframe tbody tr th:only-of-type {\n",
              "        vertical-align: middle;\n",
              "    }\n",
              "\n",
              "    .dataframe tbody tr th {\n",
              "        vertical-align: top;\n",
              "    }\n",
              "\n",
              "    .dataframe thead th {\n",
              "        text-align: right;\n",
              "    }\n",
              "</style>\n",
              "<table border=\"1\" class=\"dataframe\">\n",
              "  <thead>\n",
              "    <tr style=\"text-align: right;\">\n",
              "      <th></th>\n",
              "      <th>title</th>\n",
              "      <th>name</th>\n",
              "      <th>rating</th>\n",
              "      <th>Review</th>\n",
              "      <th>price_starter</th>\n",
              "      <th>price_standard</th>\n",
              "      <th>price_advanced</th>\n",
              "      <th>category</th>\n",
              "      <th>subcat</th>\n",
              "      <th>joblink</th>\n",
              "    </tr>\n",
              "  </thead>\n",
              "  <tbody>\n",
              "    <tr>\n",
              "      <th>0</th>\n",
              "      <td>You will get an efficient email migration to/f...</td>\n",
              "      <td>Varqa K.</td>\n",
              "      <td>4.8</td>\n",
              "      <td>2840</td>\n",
              "      <td>2,000</td>\n",
              "      <td>2,750</td>\n",
              "      <td>3,500</td>\n",
              "      <td>IT Support &amp; Security</td>\n",
              "      <td>Support &amp; IT</td>\n",
              "      <td>https://www.upwork.com/services/product/a-gsui...</td>\n",
              "    </tr>\n",
              "    <tr>\n",
              "      <th>1</th>\n",
              "      <td>You will get ASP.NET Core (C#) Part-time Support</td>\n",
              "      <td>LAKIR P.</td>\n",
              "      <td>5.0</td>\n",
              "      <td>1</td>\n",
              "      <td>375</td>\n",
              "      <td>660</td>\n",
              "      <td>1,000</td>\n",
              "      <td>IT Support &amp; Security</td>\n",
              "      <td>Support &amp; IT</td>\n",
              "      <td>https://www.upwork.com/services/product/develo...</td>\n",
              "    </tr>\n",
              "    <tr>\n",
              "      <th>2</th>\n",
              "      <td>You will get end-to-end Remote Infrastructure ...</td>\n",
              "      <td>Indramani G.</td>\n",
              "      <td>5.0</td>\n",
              "      <td>721</td>\n",
              "      <td>30</td>\n",
              "      <td>45</td>\n",
              "      <td>65</td>\n",
              "      <td>IT Support &amp; Security</td>\n",
              "      <td>Support &amp; IT</td>\n",
              "      <td>https://www.upwork.com/services/product/end-to...</td>\n",
              "    </tr>\n",
              "    <tr>\n",
              "      <th>3</th>\n",
              "      <td>You will get dockerize your app and fix docker...</td>\n",
              "      <td>Muhammad U.</td>\n",
              "      <td>4.3</td>\n",
              "      <td>342</td>\n",
              "      <td>50</td>\n",
              "      <td>80</td>\n",
              "      <td>150</td>\n",
              "      <td>IT Support &amp; Security</td>\n",
              "      <td>Support &amp; IT</td>\n",
              "      <td>https://www.upwork.com/services/product/docker...</td>\n",
              "    </tr>\n",
              "    <tr>\n",
              "      <th>4</th>\n",
              "      <td>You will get Patch Configuration with Monitori...</td>\n",
              "      <td>Vishaldeep S.</td>\n",
              "      <td>4.3</td>\n",
              "      <td>295</td>\n",
              "      <td>400</td>\n",
              "      <td>600</td>\n",
              "      <td>800</td>\n",
              "      <td>IT Support &amp; Security</td>\n",
              "      <td>Support &amp; IT</td>\n",
              "      <td>https://www.upwork.com/services/product/patch-...</td>\n",
              "    </tr>\n",
              "    <tr>\n",
              "      <th>...</th>\n",
              "      <td>...</td>\n",
              "      <td>...</td>\n",
              "      <td>...</td>\n",
              "      <td>...</td>\n",
              "      <td>...</td>\n",
              "      <td>...</td>\n",
              "      <td>...</td>\n",
              "      <td>...</td>\n",
              "      <td>...</td>\n",
              "      <td>...</td>\n",
              "    </tr>\n",
              "    <tr>\n",
              "      <th>1752</th>\n",
              "      <td>You will get python web scraping and automatio...</td>\n",
              "      <td>Hammad R.</td>\n",
              "      <td>4.9</td>\n",
              "      <td>1207</td>\n",
              "      <td>75</td>\n",
              "      <td>100</td>\n",
              "      <td>150</td>\n",
              "      <td>Data Analysis &amp; Testing</td>\n",
              "      <td>Data Analysis &amp; Reports</td>\n",
              "      <td>https://www.upwork.com/services/product/develo...</td>\n",
              "    </tr>\n",
              "    <tr>\n",
              "      <th>1753</th>\n",
              "      <td>You will get Web Scraping, Data Extraction, Da...</td>\n",
              "      <td>Alpesh K.</td>\n",
              "      <td>5.0</td>\n",
              "      <td>58</td>\n",
              "      <td>100</td>\n",
              "      <td>200</td>\n",
              "      <td>300</td>\n",
              "      <td>Data Analysis &amp; Testing</td>\n",
              "      <td>Data Analysis &amp; Reports</td>\n",
              "      <td>https://www.upwork.com/services/product/develo...</td>\n",
              "    </tr>\n",
              "    <tr>\n",
              "      <th>1754</th>\n",
              "      <td>You will get your app or website tested!</td>\n",
              "      <td>Mário R.</td>\n",
              "      <td>5.0</td>\n",
              "      <td>270</td>\n",
              "      <td>30</td>\n",
              "      <td>40</td>\n",
              "      <td>70</td>\n",
              "      <td>Data Analysis &amp; Testing</td>\n",
              "      <td>User Testing</td>\n",
              "      <td>https://www.upwork.com/services/product/develo...</td>\n",
              "    </tr>\n",
              "    <tr>\n",
              "      <th>1755</th>\n",
              "      <td>You will get a Statistical Review of a Grant o...</td>\n",
              "      <td>Michael B.</td>\n",
              "      <td>5.0</td>\n",
              "      <td>521</td>\n",
              "      <td>80</td>\n",
              "      <td>120</td>\n",
              "      <td>200</td>\n",
              "      <td>Data Analysis &amp; Testing</td>\n",
              "      <td>Data Analysis &amp; Reports</td>\n",
              "      <td>https://www.upwork.com/services/product/a-stat...</td>\n",
              "    </tr>\n",
              "    <tr>\n",
              "      <th>1756</th>\n",
              "      <td>You will get a well converted and a formatted ...</td>\n",
              "      <td>Sampath K.</td>\n",
              "      <td>4.9</td>\n",
              "      <td>51</td>\n",
              "      <td>100</td>\n",
              "      <td>150</td>\n",
              "      <td>250</td>\n",
              "      <td>Data Analysis &amp; Testing</td>\n",
              "      <td>Data Analysis &amp; Reports</td>\n",
              "      <td>https://www.upwork.com/services/product/a-well...</td>\n",
              "    </tr>\n",
              "  </tbody>\n",
              "</table>\n",
              "<p>1757 rows × 10 columns</p>\n",
              "</div>\n",
              "      <button class=\"colab-df-convert\" onclick=\"convertToInteractive('df-d7df937b-a963-4947-af8a-28526ea26050')\"\n",
              "              title=\"Convert this dataframe to an interactive table.\"\n",
              "              style=\"display:none;\">\n",
              "        \n",
              "  <svg xmlns=\"http://www.w3.org/2000/svg\" height=\"24px\"viewBox=\"0 0 24 24\"\n",
              "       width=\"24px\">\n",
              "    <path d=\"M0 0h24v24H0V0z\" fill=\"none\"/>\n",
              "    <path d=\"M18.56 5.44l.94 2.06.94-2.06 2.06-.94-2.06-.94-.94-2.06-.94 2.06-2.06.94zm-11 1L8.5 8.5l.94-2.06 2.06-.94-2.06-.94L8.5 2.5l-.94 2.06-2.06.94zm10 10l.94 2.06.94-2.06 2.06-.94-2.06-.94-.94-2.06-.94 2.06-2.06.94z\"/><path d=\"M17.41 7.96l-1.37-1.37c-.4-.4-.92-.59-1.43-.59-.52 0-1.04.2-1.43.59L10.3 9.45l-7.72 7.72c-.78.78-.78 2.05 0 2.83L4 21.41c.39.39.9.59 1.41.59.51 0 1.02-.2 1.41-.59l7.78-7.78 2.81-2.81c.8-.78.8-2.07 0-2.86zM5.41 20L4 18.59l7.72-7.72 1.47 1.35L5.41 20z\"/>\n",
              "  </svg>\n",
              "      </button>\n",
              "      \n",
              "  <style>\n",
              "    .colab-df-container {\n",
              "      display:flex;\n",
              "      flex-wrap:wrap;\n",
              "      gap: 12px;\n",
              "    }\n",
              "\n",
              "    .colab-df-convert {\n",
              "      background-color: #E8F0FE;\n",
              "      border: none;\n",
              "      border-radius: 50%;\n",
              "      cursor: pointer;\n",
              "      display: none;\n",
              "      fill: #1967D2;\n",
              "      height: 32px;\n",
              "      padding: 0 0 0 0;\n",
              "      width: 32px;\n",
              "    }\n",
              "\n",
              "    .colab-df-convert:hover {\n",
              "      background-color: #E2EBFA;\n",
              "      box-shadow: 0px 1px 2px rgba(60, 64, 67, 0.3), 0px 1px 3px 1px rgba(60, 64, 67, 0.15);\n",
              "      fill: #174EA6;\n",
              "    }\n",
              "\n",
              "    [theme=dark] .colab-df-convert {\n",
              "      background-color: #3B4455;\n",
              "      fill: #D2E3FC;\n",
              "    }\n",
              "\n",
              "    [theme=dark] .colab-df-convert:hover {\n",
              "      background-color: #434B5C;\n",
              "      box-shadow: 0px 1px 3px 1px rgba(0, 0, 0, 0.15);\n",
              "      filter: drop-shadow(0px 1px 2px rgba(0, 0, 0, 0.3));\n",
              "      fill: #FFFFFF;\n",
              "    }\n",
              "  </style>\n",
              "\n",
              "      <script>\n",
              "        const buttonEl =\n",
              "          document.querySelector('#df-d7df937b-a963-4947-af8a-28526ea26050 button.colab-df-convert');\n",
              "        buttonEl.style.display =\n",
              "          google.colab.kernel.accessAllowed ? 'block' : 'none';\n",
              "\n",
              "        async function convertToInteractive(key) {\n",
              "          const element = document.querySelector('#df-d7df937b-a963-4947-af8a-28526ea26050');\n",
              "          const dataTable =\n",
              "            await google.colab.kernel.invokeFunction('convertToInteractive',\n",
              "                                                     [key], {});\n",
              "          if (!dataTable) return;\n",
              "\n",
              "          const docLinkHtml = 'Like what you see? Visit the ' +\n",
              "            '<a target=\"_blank\" href=https://colab.research.google.com/notebooks/data_table.ipynb>data table notebook</a>'\n",
              "            + ' to learn more about interactive tables.';\n",
              "          element.innerHTML = '';\n",
              "          dataTable['output_type'] = 'display_data';\n",
              "          await google.colab.output.renderOutput(dataTable, element);\n",
              "          const docLink = document.createElement('div');\n",
              "          docLink.innerHTML = docLinkHtml;\n",
              "          element.appendChild(docLink);\n",
              "        }\n",
              "      </script>\n",
              "    </div>\n",
              "  </div>\n",
              "  "
            ]
          },
          "metadata": {},
          "execution_count": 41
        }
      ]
    },
    {
      "cell_type": "code",
      "source": [
        "upwork_clean_rev.groupby('name').count()['review'].reset_index()"
      ],
      "metadata": {
        "id": "qXHp8G9_WyXY"
      },
      "execution_count": null,
      "outputs": []
    },
    {
      "cell_type": "code",
      "source": [
        "upwork_clean_rev.drop('user_id', inplace=True, axis=1)"
      ],
      "metadata": {
        "id": "pP2YUwg3b7U7"
      },
      "execution_count": null,
      "outputs": []
    },
    {
      "cell_type": "code",
      "source": [
        "upwork_clean_rev['rating'] = upwork_clean_rev['rating'].apply(float)\n",
        "upwork_clean_rev['review'] = upwork_clean_rev['review'].apply(float)\n",
        "upwork_clean_rev['price_starter'] = upwork_clean_rev['price_starter'].apply(float)\n",
        "upwork_clean_rev['price_standard'] = upwork_clean_rev['price_standard'].apply(float)\n",
        "upwork_clean_rev['price_advanced'] = upwork_clean_rev['price_advanced'].apply(float)"
      ],
      "metadata": {
        "id": "n-hnh39Rg46z"
      },
      "execution_count": null,
      "outputs": []
    },
    {
      "cell_type": "code",
      "source": [
        "popular_freelancer = upwork_clean_rev[upwork_clean_rev['review']>=300].sort_values('rating', ascending=False).head(10)"
      ],
      "metadata": {
        "id": "G5sYnuMJb7eJ"
      },
      "execution_count": null,
      "outputs": []
    },
    {
      "cell_type": "code",
      "source": [
        "popular_freelancer = popular_freelancer.drop_duplicates('title')[['title', 'name', 'rating', 'review', 'price_standard']]"
      ],
      "metadata": {
        "id": "G7oebrhBiMOs"
      },
      "execution_count": null,
      "outputs": []
    },
    {
      "cell_type": "code",
      "source": [
        "popular_freelancer"
      ],
      "metadata": {
        "colab": {
          "base_uri": "https://localhost:8080/",
          "height": 581
        },
        "id": "vTVfwokPiN2W",
        "outputId": "99d5df24-b77b-4f1c-e726-0d85c5add72e"
      },
      "execution_count": null,
      "outputs": [
        {
          "output_type": "execute_result",
          "data": {
            "text/plain": [
              "                                                  title         name  rating  \\\n",
              "1755  You will get a Statistical Review of a Grant o...   Michael B.     5.0   \n",
              "1306  You will get a visually appealing dashboard th...     Jesus V.     5.0   \n",
              "830   You will get a mobile friendly squarespace web...  Minhazul A.     5.0   \n",
              "828   You will get your WordPress site the highest p...     Subir C.     5.0   \n",
              "1281  You will get an effective Python web scraper t...     Ahmed S.     5.0   \n",
              "1282       You will get a proper product with zero bugs    Charmi M.     5.0   \n",
              "825   You will get a great website with clean, fully...     Saira A.     5.0   \n",
              "1283    You will get a custom google data studio report    Naveen K.     5.0   \n",
              "1284  You will get daily tests on your Website/iOS/A...     Pedro P.     5.0   \n",
              "1289  You will get a Fantastic Macro to Automate You...   Maylson G.     5.0   \n",
              "\n",
              "      review price_standard  \n",
              "1755   521.0            120  \n",
              "1306  1207.0            150  \n",
              "830    635.0            150  \n",
              "828    339.0            200  \n",
              "1281   365.0            150  \n",
              "1282  1207.0            200  \n",
              "825    365.0            500  \n",
              "1283   448.0            130  \n",
              "1284   339.0            200  \n",
              "1289   689.0            250  "
            ],
            "text/html": [
              "\n",
              "  <div id=\"df-3d1077b9-dd67-4cd4-a252-d77d1c97b348\">\n",
              "    <div class=\"colab-df-container\">\n",
              "      <div>\n",
              "<style scoped>\n",
              "    .dataframe tbody tr th:only-of-type {\n",
              "        vertical-align: middle;\n",
              "    }\n",
              "\n",
              "    .dataframe tbody tr th {\n",
              "        vertical-align: top;\n",
              "    }\n",
              "\n",
              "    .dataframe thead th {\n",
              "        text-align: right;\n",
              "    }\n",
              "</style>\n",
              "<table border=\"1\" class=\"dataframe\">\n",
              "  <thead>\n",
              "    <tr style=\"text-align: right;\">\n",
              "      <th></th>\n",
              "      <th>title</th>\n",
              "      <th>name</th>\n",
              "      <th>rating</th>\n",
              "      <th>review</th>\n",
              "      <th>price_standard</th>\n",
              "    </tr>\n",
              "  </thead>\n",
              "  <tbody>\n",
              "    <tr>\n",
              "      <th>1755</th>\n",
              "      <td>You will get a Statistical Review of a Grant o...</td>\n",
              "      <td>Michael B.</td>\n",
              "      <td>5.0</td>\n",
              "      <td>521.0</td>\n",
              "      <td>120</td>\n",
              "    </tr>\n",
              "    <tr>\n",
              "      <th>1306</th>\n",
              "      <td>You will get a visually appealing dashboard th...</td>\n",
              "      <td>Jesus V.</td>\n",
              "      <td>5.0</td>\n",
              "      <td>1207.0</td>\n",
              "      <td>150</td>\n",
              "    </tr>\n",
              "    <tr>\n",
              "      <th>830</th>\n",
              "      <td>You will get a mobile friendly squarespace web...</td>\n",
              "      <td>Minhazul A.</td>\n",
              "      <td>5.0</td>\n",
              "      <td>635.0</td>\n",
              "      <td>150</td>\n",
              "    </tr>\n",
              "    <tr>\n",
              "      <th>828</th>\n",
              "      <td>You will get your WordPress site the highest p...</td>\n",
              "      <td>Subir C.</td>\n",
              "      <td>5.0</td>\n",
              "      <td>339.0</td>\n",
              "      <td>200</td>\n",
              "    </tr>\n",
              "    <tr>\n",
              "      <th>1281</th>\n",
              "      <td>You will get an effective Python web scraper t...</td>\n",
              "      <td>Ahmed S.</td>\n",
              "      <td>5.0</td>\n",
              "      <td>365.0</td>\n",
              "      <td>150</td>\n",
              "    </tr>\n",
              "    <tr>\n",
              "      <th>1282</th>\n",
              "      <td>You will get a proper product with zero bugs</td>\n",
              "      <td>Charmi M.</td>\n",
              "      <td>5.0</td>\n",
              "      <td>1207.0</td>\n",
              "      <td>200</td>\n",
              "    </tr>\n",
              "    <tr>\n",
              "      <th>825</th>\n",
              "      <td>You will get a great website with clean, fully...</td>\n",
              "      <td>Saira A.</td>\n",
              "      <td>5.0</td>\n",
              "      <td>365.0</td>\n",
              "      <td>500</td>\n",
              "    </tr>\n",
              "    <tr>\n",
              "      <th>1283</th>\n",
              "      <td>You will get a custom google data studio report</td>\n",
              "      <td>Naveen K.</td>\n",
              "      <td>5.0</td>\n",
              "      <td>448.0</td>\n",
              "      <td>130</td>\n",
              "    </tr>\n",
              "    <tr>\n",
              "      <th>1284</th>\n",
              "      <td>You will get daily tests on your Website/iOS/A...</td>\n",
              "      <td>Pedro P.</td>\n",
              "      <td>5.0</td>\n",
              "      <td>339.0</td>\n",
              "      <td>200</td>\n",
              "    </tr>\n",
              "    <tr>\n",
              "      <th>1289</th>\n",
              "      <td>You will get a Fantastic Macro to Automate You...</td>\n",
              "      <td>Maylson G.</td>\n",
              "      <td>5.0</td>\n",
              "      <td>689.0</td>\n",
              "      <td>250</td>\n",
              "    </tr>\n",
              "  </tbody>\n",
              "</table>\n",
              "</div>\n",
              "      <button class=\"colab-df-convert\" onclick=\"convertToInteractive('df-3d1077b9-dd67-4cd4-a252-d77d1c97b348')\"\n",
              "              title=\"Convert this dataframe to an interactive table.\"\n",
              "              style=\"display:none;\">\n",
              "        \n",
              "  <svg xmlns=\"http://www.w3.org/2000/svg\" height=\"24px\"viewBox=\"0 0 24 24\"\n",
              "       width=\"24px\">\n",
              "    <path d=\"M0 0h24v24H0V0z\" fill=\"none\"/>\n",
              "    <path d=\"M18.56 5.44l.94 2.06.94-2.06 2.06-.94-2.06-.94-.94-2.06-.94 2.06-2.06.94zm-11 1L8.5 8.5l.94-2.06 2.06-.94-2.06-.94L8.5 2.5l-.94 2.06-2.06.94zm10 10l.94 2.06.94-2.06 2.06-.94-2.06-.94-.94-2.06-.94 2.06-2.06.94z\"/><path d=\"M17.41 7.96l-1.37-1.37c-.4-.4-.92-.59-1.43-.59-.52 0-1.04.2-1.43.59L10.3 9.45l-7.72 7.72c-.78.78-.78 2.05 0 2.83L4 21.41c.39.39.9.59 1.41.59.51 0 1.02-.2 1.41-.59l7.78-7.78 2.81-2.81c.8-.78.8-2.07 0-2.86zM5.41 20L4 18.59l7.72-7.72 1.47 1.35L5.41 20z\"/>\n",
              "  </svg>\n",
              "      </button>\n",
              "      \n",
              "  <style>\n",
              "    .colab-df-container {\n",
              "      display:flex;\n",
              "      flex-wrap:wrap;\n",
              "      gap: 12px;\n",
              "    }\n",
              "\n",
              "    .colab-df-convert {\n",
              "      background-color: #E8F0FE;\n",
              "      border: none;\n",
              "      border-radius: 50%;\n",
              "      cursor: pointer;\n",
              "      display: none;\n",
              "      fill: #1967D2;\n",
              "      height: 32px;\n",
              "      padding: 0 0 0 0;\n",
              "      width: 32px;\n",
              "    }\n",
              "\n",
              "    .colab-df-convert:hover {\n",
              "      background-color: #E2EBFA;\n",
              "      box-shadow: 0px 1px 2px rgba(60, 64, 67, 0.3), 0px 1px 3px 1px rgba(60, 64, 67, 0.15);\n",
              "      fill: #174EA6;\n",
              "    }\n",
              "\n",
              "    [theme=dark] .colab-df-convert {\n",
              "      background-color: #3B4455;\n",
              "      fill: #D2E3FC;\n",
              "    }\n",
              "\n",
              "    [theme=dark] .colab-df-convert:hover {\n",
              "      background-color: #434B5C;\n",
              "      box-shadow: 0px 1px 3px 1px rgba(0, 0, 0, 0.15);\n",
              "      filter: drop-shadow(0px 1px 2px rgba(0, 0, 0, 0.3));\n",
              "      fill: #FFFFFF;\n",
              "    }\n",
              "  </style>\n",
              "\n",
              "      <script>\n",
              "        const buttonEl =\n",
              "          document.querySelector('#df-3d1077b9-dd67-4cd4-a252-d77d1c97b348 button.colab-df-convert');\n",
              "        buttonEl.style.display =\n",
              "          google.colab.kernel.accessAllowed ? 'block' : 'none';\n",
              "\n",
              "        async function convertToInteractive(key) {\n",
              "          const element = document.querySelector('#df-3d1077b9-dd67-4cd4-a252-d77d1c97b348');\n",
              "          const dataTable =\n",
              "            await google.colab.kernel.invokeFunction('convertToInteractive',\n",
              "                                                     [key], {});\n",
              "          if (!dataTable) return;\n",
              "\n",
              "          const docLinkHtml = 'Like what you see? Visit the ' +\n",
              "            '<a target=\"_blank\" href=https://colab.research.google.com/notebooks/data_table.ipynb>data table notebook</a>'\n",
              "            + ' to learn more about interactive tables.';\n",
              "          element.innerHTML = '';\n",
              "          dataTable['output_type'] = 'display_data';\n",
              "          await google.colab.output.renderOutput(dataTable, element);\n",
              "          const docLink = document.createElement('div');\n",
              "          docLink.innerHTML = docLinkHtml;\n",
              "          element.appendChild(docLink);\n",
              "        }\n",
              "      </script>\n",
              "    </div>\n",
              "  </div>\n",
              "  "
            ]
          },
          "metadata": {},
          "execution_count": 74
        }
      ]
    },
    {
      "cell_type": "code",
      "source": [],
      "metadata": {
        "id": "qBIKfdAWjetr"
      },
      "execution_count": null,
      "outputs": []
    }
  ]
}